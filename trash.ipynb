{
 "cells": [
  {
   "cell_type": "code",
   "execution_count": null,
   "metadata": {},
   "outputs": [],
   "source": [
    "import datetime"
   ]
  },
  {
   "cell_type": "code",
   "execution_count": null,
   "metadata": {},
   "outputs": [],
   "source": [
    "# t = datetime.datetime.now(datetime.UTC) - datetime.datetime(1970, 1, 1).astimezone(datetime.UTC)\n",
    "t = datetime.datetime.now() - datetime.datetime(1970, 1, 1) # + datetime.tzinfo.utcoffset()\n",
    "\n",
    "t = t.total_seconds()\n",
    "\n",
    "now =  1743782249\n",
    "\n",
    "\n",
    "print(t)\n",
    "print(t - now)\n"
   ]
  },
  {
   "cell_type": "code",
   "execution_count": null,
   "metadata": {},
   "outputs": [],
   "source": [
    "datetime.datetime(1970, 1, 1)"
   ]
  },
  {
   "cell_type": "code",
   "execution_count": null,
   "metadata": {},
   "outputs": [],
   "source": [
    "t = datetime.datetime.now()\n",
    "\n",
    "# datetime.tzinfo(t)\n",
    "\n",
    "\n",
    "t"
   ]
  },
  {
   "cell_type": "code",
   "execution_count": null,
   "metadata": {},
   "outputs": [],
   "source": [
    "now = datetime.datetime.now()\n",
    "utc = datetime.datetime.now(datetime.UTC)\n",
    "\n",
    "float(now) - float(utc)\n",
    "\n",
    "# t\n",
    "utc_offset = time.localtime().tm_gmtoff"
   ]
  },
  {
   "cell_type": "code",
   "execution_count": null,
   "metadata": {},
   "outputs": [],
   "source": [
    "import time\n",
    "import numpy as np\n",
    "\n",
    "np.floor(time.time())"
   ]
  },
  {
   "cell_type": "code",
   "execution_count": 13,
   "metadata": {},
   "outputs": [
    {
     "name": "stdout",
     "output_type": "stream",
     "text": [
      "hello\n",
      "bye\n"
     ]
    }
   ],
   "source": [
    "import numpy as np\n",
    "\n",
    "x = float(str(1))\n",
    "y = float(np.nan)\n",
    "\n",
    "if not np.isnan(x):\n",
    "    print(\"hello\")\n",
    "if np.isnan(y):\n",
    "    print(\"bye\")"
   ]
  }
 ],
 "metadata": {
  "kernelspec": {
   "display_name": "rapids",
   "language": "python",
   "name": "python3"
  },
  "language_info": {
   "codemirror_mode": {
    "name": "ipython",
    "version": 3
   },
   "file_extension": ".py",
   "mimetype": "text/x-python",
   "name": "python",
   "nbconvert_exporter": "python",
   "pygments_lexer": "ipython3",
   "version": "3.12.8"
  }
 },
 "nbformat": 4,
 "nbformat_minor": 2
}
