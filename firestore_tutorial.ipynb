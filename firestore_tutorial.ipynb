{
 "cells": [
  {
   "cell_type": "markdown",
   "metadata": {},
   "source": [
    "You will need to generate your own private service account key.\n",
    "\n",
    "To do this, go to `Settings -> Project settings -> Service accounts -> Generate new private key`\n",
    "\n",
    "Once you have generated a new key, you will need to save it so a location on your device and copy the path to the key for use below.\n",
    "\n",
    "**DO NOT SHARE THIS KEY WITH ANYONE**\n",
    "\n",
    "**DO NOT MAKE THIS KEY PUBLICLY AVAILABLE** (i.e. do not push key to github repository)"
   ]
  },
  {
   "cell_type": "code",
   "execution_count": null,
   "metadata": {},
   "outputs": [],
   "source": [
    "with open(\".private_key\", \"r\") as f:\n",
    "    key = f.readline()"
   ]
  },
  {
   "cell_type": "markdown",
   "metadata": {},
   "source": [
    "If you get an error in the cell below, `Restart` the Jupyter notebook.\n",
    "\n",
    "Once the app has been initialized, it cannot be re-initialized."
   ]
  },
  {
   "cell_type": "code",
   "execution_count": null,
   "metadata": {},
   "outputs": [],
   "source": [
    "import firebase_admin\n",
    "from firebase_admin import credentials\n",
    "\n",
    "# Connect to the firebase server\n",
    "cred = credentials.Certificate(key)\n",
    "firebase_admin.initialize_app(cred)"
   ]
  },
  {
   "cell_type": "code",
   "execution_count": null,
   "metadata": {},
   "outputs": [],
   "source": [
    "from firebase_admin import firestore\n",
    "\n",
    "# Get the firestore database\n",
    "db = firestore.client()\n",
    "db"
   ]
  },
  {
   "cell_type": "code",
   "execution_count": null,
   "metadata": {},
   "outputs": [],
   "source": [
    "# read values from database\n",
    "images_ref = db.collection(\"images\")\n",
    "docs = images_ref.stream()\n",
    "\n",
    "# print 10 documents from the database\n",
    "i = 0\n",
    "for doc in docs:\n",
    "    print(f\"{doc.id} => {doc.to_dict()}\")\n",
    "    \n",
    "    if i >= 10: break\n",
    "    else: i += 1"
   ]
  },
  {
   "cell_type": "code",
   "execution_count": null,
   "metadata": {},
   "outputs": [],
   "source": [
    "from datetime import datetime\n",
    "import json\n",
    "\n",
    "# write to the firestore database\n",
    "today = datetime.now()\n",
    "document_id = f\"test_{datetime.strftime(today, '%y%m%d%H%M%S%f')}\"\n",
    "print(\"document id:\", document_id)\n",
    "\n",
    "# create a new json file to add to the database\n",
    "file = json.loads(\n",
    "    '{ \"name\": \"test\" }'\n",
    ")\n",
    "file[\"test\"] = True\n",
    "file[\"date\"] = datetime.strftime(today, '%B %d, %Y')\n",
    "file[\"time\"] = datetime.strftime(today, '%H:%M:%S')\n",
    "print(\"new json file:\", file)\n",
    "\n",
    "# write to the database\n",
    "doc_ref = db.collection(\"images\").document(document_id)\n",
    "doc_ref.set(file)"
   ]
  },
  {
   "cell_type": "code",
   "execution_count": null,
   "metadata": {},
   "outputs": [],
   "source": [
    "# filter by (\"test\"==True)\n",
    "from google.cloud.firestore_v1.base_query import FieldFilter\n",
    "\n",
    "images_ref = db.collection(\"images\")\n",
    "query = images_ref.where(filter=FieldFilter(\"test\", \"==\", True))\n",
    "docs = query.stream()\n",
    "\n",
    "# print 10 documents from the query\n",
    "i = 0\n",
    "for doc in docs:\n",
    "    print(f\"{doc.id} => {doc.to_dict()}\")\n",
    "    \n",
    "    if i >= 10: break\n",
    "    else: i += 1"
   ]
  }
 ],
 "metadata": {
  "kernelspec": {
   "display_name": "rapids",
   "language": "python",
   "name": "python3"
  },
  "language_info": {
   "codemirror_mode": {
    "name": "ipython",
    "version": 3
   },
   "file_extension": ".py",
   "mimetype": "text/x-python",
   "name": "python",
   "nbconvert_exporter": "python",
   "pygments_lexer": "ipython3",
   "version": "3.12.8"
  }
 },
 "nbformat": 4,
 "nbformat_minor": 2
}
